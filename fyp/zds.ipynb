{
 "cells": [
  {
   "cell_type": "code",
   "execution_count": 1,
   "metadata": {},
   "outputs": [],
   "source": [
    "import numpy as np\n",
    "import torch\n",
    "import torch.nn as nn\n",
    "import torch.optim as optim\n",
    "from torch.utils.data import DataLoader, TensorDataset\n",
    "from sklearn.model_selection import train_test_split\n",
    "import numpy as np\n",
    "import librosa"
   ]
  },
  {
   "cell_type": "code",
   "execution_count": 2,
   "metadata": {},
   "outputs": [],
   "source": [
    "import os\n",
    "audio_path = os.path.join(os.getcwd(),'2023_10_03_10_36_34.wav')\n",
    "# os.listdir()"
   ]
  },
  {
   "cell_type": "code",
   "execution_count": 23,
   "metadata": {},
   "outputs": [],
   "source": [
    "def load_and_preprocess_audio(file_path):\n",
    "    audio_data, sr = librosa.load(file_path)\n",
    "    mfccs = librosa.feature.mfcc(y=audio_data, sr=sr)\n",
    "    return mfccs\n",
    "\n",
    "def Zero_Crossing_Rate(file_path):\n",
    "    audio_data, sr = librosa.load(file_path)\n",
    "    zcr = librosa.feature.zero_crossing_rate(y=audio_data)\n",
    "    return zcr\n",
    "\n",
    "def Spectral_roll_off(file_path):\n",
    "    audio_data, sr = librosa.load(audio_path)\n",
    "    S, phase = librosa.magphase(librosa.stft(y=audio_data))\n",
    "    sro = librosa.feature.spectral_rolloff(S=S, sr=sr)\n",
    "    return sro\n",
    "\n",
    "def Pitch(file_path):\n",
    "    audio_data, sr = librosa.load(audio_path)\n",
    "    p = pitches, magnitudes = librosa.piptrack(y=audio_data, sr=sr)\n",
    "    return p\n",
    "\n",
    "def Chroma(file_path):\n",
    "    audio_data, sr = librosa.load(audio_path)\n",
    "    c = librosa.feature.chroma_stft(y=audio_data, sr=sr)\n",
    "    return c\n"
   ]
  },
  {
   "cell_type": "code",
   "execution_count": null,
   "metadata": {},
   "outputs": [],
   "source": [
    "fea = load_and_preprocess_audio(audio_path)\n",
    "fea"
   ]
  },
  {
   "cell_type": "code",
   "execution_count": null,
   "metadata": {},
   "outputs": [],
   "source": [
    "zcr = Zero_Crossing_Rate(audio_path)\n",
    "zcr"
   ]
  },
  {
   "cell_type": "code",
   "execution_count": null,
   "metadata": {},
   "outputs": [],
   "source": [
    "sro = Spectral_roll_off(audio_path)\n",
    "sro"
   ]
  },
  {
   "cell_type": "code",
   "execution_count": null,
   "metadata": {},
   "outputs": [],
   "source": [
    "p = Pitch(audio_path)\n",
    "p"
   ]
  },
  {
   "cell_type": "code",
   "execution_count": null,
   "metadata": {},
   "outputs": [],
   "source": [
    "c = Chroma(audio_path)\n",
    "c"
   ]
  },
  {
   "cell_type": "code",
   "execution_count": 21,
   "metadata": {},
   "outputs": [
    {
     "data": {
      "text/plain": [
       "[-321.79202,\n",
       " 110.60706,\n",
       " -14.114023,\n",
       " 38.73207,\n",
       " -10.271969,\n",
       " 12.484325,\n",
       " -15.606934,\n",
       " -7.6836157,\n",
       " -2.2005014,\n",
       " -12.841875,\n",
       " -9.330864,\n",
       " -8.961778,\n",
       " -1.9768528,\n",
       " -9.894386,\n",
       " 0.7995531,\n",
       " -8.052955,\n",
       " -5.436744,\n",
       " 0.6816945,\n",
       " -3.5786924,\n",
       " -5.976227]"
      ]
     },
     "execution_count": 21,
     "metadata": {},
     "output_type": "execute_result"
    }
   ],
   "source": [
    "zds = []\n",
    "for lis in fea:\n",
    "    zds.append(np.mean(lis))\n",
    "zds"
   ]
  },
  {
   "cell_type": "code",
   "execution_count": 25,
   "metadata": {},
   "outputs": [
    {
     "name": "stdout",
     "output_type": "stream",
     "text": [
      "Mean Feature: -0.014527324274122592\n",
      "Standard Deviation Feature: 2051.314956185722\n"
     ]
    }
   ],
   "source": [
    "from pydub import AudioSegment\n",
    "from pydub.playback import play\n",
    "import numpy as np\n",
    "\n",
    "def extract_features(audio_file_path):\n",
    "    audio = AudioSegment.from_file(audio_file_path)\n",
    "\n",
    "    # Convert to mono if stereo\n",
    "    if audio.channels == 2:\n",
    "        audio = audio.set_channels(1)\n",
    "\n",
    "    # Convert to numpy array\n",
    "    audio_array = np.array(audio.get_array_of_samples())\n",
    "\n",
    "    # Example: Extract mean and standard deviation as features\n",
    "    mean_feature = np.mean(audio_array)\n",
    "    std_feature = np.std(audio_array)\n",
    "\n",
    "    return mean_feature, std_feature\n",
    "\n",
    "# Example usage:\n",
    "# audio_file_path = 'your_audio_file.wav'\n",
    "mean_feature, std_feature = extract_features(audio_path)\n",
    "\n",
    "print(f\"Mean Feature: {mean_feature}\")\n",
    "print(f\"Standard Deviation Feature: {std_feature}\")\n"
   ]
  }
 ],
 "metadata": {
  "kernelspec": {
   "display_name": "Python 3",
   "language": "python",
   "name": "python3"
  },
  "language_info": {
   "codemirror_mode": {
    "name": "ipython",
    "version": 3
   },
   "file_extension": ".py",
   "mimetype": "text/x-python",
   "name": "python",
   "nbconvert_exporter": "python",
   "pygments_lexer": "ipython3",
   "version": "3.11.0"
  },
  "orig_nbformat": 4
 },
 "nbformat": 4,
 "nbformat_minor": 2
}

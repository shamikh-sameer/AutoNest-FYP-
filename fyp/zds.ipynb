{
 "cells": [
  {
   "cell_type": "code",
   "execution_count": 1,
   "metadata": {},
   "outputs": [],
   "source": [
    "import numpy as np\n",
    "import torch\n",
    "import torch.nn as nn\n",
    "import torch.optim as optim\n",
    "from torch.utils.data import DataLoader, TensorDataset\n",
    "from sklearn.model_selection import train_test_split\n",
    "import numpy as np\n",
    "import librosa"
   ]
  },
  {
   "cell_type": "code",
   "execution_count": 2,
   "metadata": {},
   "outputs": [],
   "source": [
    "import os\n",
    "audio_path = os.path.join(os.getcwd(),'2023_10_03_10_36_34.wav')\n",
    "# os.listdir()"
   ]
  },
  {
   "cell_type": "code",
   "execution_count": 3,
   "metadata": {},
   "outputs": [],
   "source": [
    "def load_and_preprocess_audio(file_path):\n",
    "    audio_data, sr = librosa.load(file_path)\n",
    "    mfccs = librosa.feature.mfcc(y=audio_data, sr=sr)\n",
    "    return mfccs"
   ]
  },
  {
   "cell_type": "code",
   "execution_count": 5,
   "metadata": {},
   "outputs": [
    {
     "name": "stderr",
     "output_type": "stream",
     "text": [
      "C:\\Users\\shami\\AppData\\Roaming\\Python\\Python311\\site-packages\\librosa\\core\\audio.py:175: FutureWarning: librosa.core.audio.__audioread_load\n",
      "\tDeprecated as of librosa version 0.10.0.\n",
      "\tIt will be removed in librosa version 1.0.\n",
      "  y, sr_native = __audioread_load(path, offset, duration, dtype)\n"
     ]
    },
    {
     "data": {
      "text/plain": [
       "array([[-603.91077  , -603.91077  , -603.91077  , ..., -382.45068  ,\n",
       "        -377.92456  , -378.9357   ],\n",
       "       [   0.       ,    0.       ,    0.       , ...,  122.11897  ,\n",
       "         127.45216  ,  129.1813   ],\n",
       "       [   0.       ,    0.       ,    0.       , ...,    4.15543  ,\n",
       "           3.7107537,    6.8855104],\n",
       "       ...,\n",
       "       [   0.       ,    0.       ,    0.       , ...,    3.904075 ,\n",
       "           2.7042322,    4.4953094],\n",
       "       [   0.       ,    0.       ,    0.       , ...,   -3.3108315,\n",
       "          -5.265839 ,   -6.929785 ],\n",
       "       [   0.       ,    0.       ,    0.       , ...,   -0.9048897,\n",
       "          -5.5059643,   -4.808998 ]], dtype=float32)"
      ]
     },
     "execution_count": 5,
     "metadata": {},
     "output_type": "execute_result"
    }
   ],
   "source": [
    "fea = load_and_preprocess_audio(audio_path)\n",
    "\n",
    "fea"
   ]
  },
  {
   "cell_type": "code",
   "execution_count": 21,
   "metadata": {},
   "outputs": [
    {
     "data": {
      "text/plain": [
       "[-321.79202,\n",
       " 110.60706,\n",
       " -14.114023,\n",
       " 38.73207,\n",
       " -10.271969,\n",
       " 12.484325,\n",
       " -15.606934,\n",
       " -7.6836157,\n",
       " -2.2005014,\n",
       " -12.841875,\n",
       " -9.330864,\n",
       " -8.961778,\n",
       " -1.9768528,\n",
       " -9.894386,\n",
       " 0.7995531,\n",
       " -8.052955,\n",
       " -5.436744,\n",
       " 0.6816945,\n",
       " -3.5786924,\n",
       " -5.976227]"
      ]
     },
     "execution_count": 21,
     "metadata": {},
     "output_type": "execute_result"
    }
   ],
   "source": [
    "zds = []\n",
    "for lis in fea:\n",
    "    zds.append(np.mean(lis))\n",
    "zds"
   ]
  },
  {
   "cell_type": "code",
   "execution_count": 25,
   "metadata": {},
   "outputs": [
    {
     "name": "stdout",
     "output_type": "stream",
     "text": [
      "Mean Feature: -0.014527324274122592\n",
      "Standard Deviation Feature: 2051.314956185722\n"
     ]
    }
   ],
   "source": [
    "from pydub import AudioSegment\n",
    "from pydub.playback import play\n",
    "import numpy as np\n",
    "\n",
    "def extract_features(audio_file_path):\n",
    "    audio = AudioSegment.from_file(audio_file_path)\n",
    "\n",
    "    # Convert to mono if stereo\n",
    "    if audio.channels == 2:\n",
    "        audio = audio.set_channels(1)\n",
    "\n",
    "    # Convert to numpy array\n",
    "    audio_array = np.array(audio.get_array_of_samples())\n",
    "\n",
    "    # Example: Extract mean and standard deviation as features\n",
    "    mean_feature = np.mean(audio_array)\n",
    "    std_feature = np.std(audio_array)\n",
    "\n",
    "    return mean_feature, std_feature\n",
    "\n",
    "# Example usage:\n",
    "# audio_file_path = 'your_audio_file.wav'\n",
    "mean_feature, std_feature = extract_features(audio_path)\n",
    "\n",
    "print(f\"Mean Feature: {mean_feature}\")\n",
    "print(f\"Standard Deviation Feature: {std_feature}\")\n"
   ]
  }
 ],
 "metadata": {
  "kernelspec": {
   "display_name": "Python 3",
   "language": "python",
   "name": "python3"
  },
  "language_info": {
   "codemirror_mode": {
    "name": "ipython",
    "version": 3
   },
   "file_extension": ".py",
   "mimetype": "text/x-python",
   "name": "python",
   "nbconvert_exporter": "python",
   "pygments_lexer": "ipython3",
   "version": "3.11.0"
  },
  "orig_nbformat": 4
 },
 "nbformat": 4,
 "nbformat_minor": 2
}
